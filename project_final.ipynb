{
 "cells": [
  {
   "cell_type": "markdown",
   "metadata": {},
   "source": [
    "# Housing Prices Prediction using Machine Learning"
   ]
  },
  {
   "cell_type": "markdown",
   "metadata": {},
   "source": [
    "### 1. Importing libraries"
   ]
  },
  {
   "cell_type": "code",
   "execution_count": 4,
   "metadata": {},
   "outputs": [],
   "source": [
    "%matplotlib inline\n",
    "import pandas as pd\n",
    "import numpy as np\n",
    "import matplotlib.pyplot as plt\n",
    "import seaborn as sns"
   ]
  },
  {
   "cell_type": "markdown",
   "metadata": {},
   "source": [
    "### 2. Reading the dataset"
   ]
  },
  {
   "cell_type": "code",
   "execution_count": 5,
   "metadata": {},
   "outputs": [],
   "source": [
    "dfa = pd.read_csv('pricepaid.csv')"
   ]
  },
  {
   "cell_type": "code",
   "execution_count": 6,
   "metadata": {},
   "outputs": [
    {
     "data": {
      "text/plain": [
       "(27450499, 11)"
      ]
     },
     "execution_count": 6,
     "metadata": {},
     "output_type": "execute_result"
    }
   ],
   "source": [
    "dfa.shape"
   ]
  },
  {
   "cell_type": "code",
   "execution_count": 7,
   "metadata": {},
   "outputs": [],
   "source": [
    "df = dfa.sample(n = 500000, random_state = 0)"
   ]
  },
  {
   "cell_type": "code",
   "execution_count": 8,
   "metadata": {},
   "outputs": [
    {
     "name": "stdout",
     "output_type": "stream",
     "text": [
      "<class 'pandas.core.frame.DataFrame'>\n",
      "Int64Index: 500000 entries, 3529864 to 12699276\n",
      "Data columns (total 11 columns):\n",
      " #   Column                         Non-Null Count   Dtype \n",
      "---  ------                         --------------   ----- \n",
      " 0   Transaction unique identifier  500000 non-null  object\n",
      " 1   Price                          500000 non-null  int64 \n",
      " 2   Date of Transfer               500000 non-null  object\n",
      " 3   Property Type                  500000 non-null  object\n",
      " 4   Old/New                        500000 non-null  object\n",
      " 5   Duration                       500000 non-null  object\n",
      " 6   Town/City                      500000 non-null  object\n",
      " 7   District                       500000 non-null  object\n",
      " 8   County                         500000 non-null  object\n",
      " 9   PPDCategory Type               500000 non-null  object\n",
      " 10  Record Status                  500000 non-null  object\n",
      "dtypes: int64(1), object(10)\n",
      "memory usage: 45.8+ MB\n"
     ]
    }
   ],
   "source": [
    "df.info()"
   ]
  },
  {
   "cell_type": "code",
   "execution_count": 9,
   "metadata": {},
   "outputs": [
    {
     "data": {
      "text/html": [
       "<div>\n",
       "<style scoped>\n",
       "    .dataframe tbody tr th:only-of-type {\n",
       "        vertical-align: middle;\n",
       "    }\n",
       "\n",
       "    .dataframe tbody tr th {\n",
       "        vertical-align: top;\n",
       "    }\n",
       "\n",
       "    .dataframe thead th {\n",
       "        text-align: right;\n",
       "    }\n",
       "</style>\n",
       "<table border=\"1\" class=\"dataframe\">\n",
       "  <thead>\n",
       "    <tr style=\"text-align: right;\">\n",
       "      <th></th>\n",
       "      <th>Transaction unique identifier</th>\n",
       "      <th>Price</th>\n",
       "      <th>Date of Transfer</th>\n",
       "      <th>Property Type</th>\n",
       "      <th>Old/New</th>\n",
       "      <th>Duration</th>\n",
       "      <th>Town/City</th>\n",
       "      <th>District</th>\n",
       "      <th>County</th>\n",
       "      <th>PPDCategory Type</th>\n",
       "      <th>Record Status</th>\n",
       "    </tr>\n",
       "  </thead>\n",
       "  <tbody>\n",
       "    <tr>\n",
       "      <th>3529864</th>\n",
       "      <td>{E6089F5E-E617-4FAC-A41F-5A249F1A750D}</td>\n",
       "      <td>76000</td>\n",
       "      <td>1998-11-02 00:00</td>\n",
       "      <td>T</td>\n",
       "      <td>N</td>\n",
       "      <td>F</td>\n",
       "      <td>NEWBURY</td>\n",
       "      <td>WEST BERKSHIRE</td>\n",
       "      <td>WEST BERKSHIRE</td>\n",
       "      <td>A</td>\n",
       "      <td>A</td>\n",
       "    </tr>\n",
       "    <tr>\n",
       "      <th>17475064</th>\n",
       "      <td>{0B87DD3C-39E1-4FA0-B659-7F407EC9E1E2}</td>\n",
       "      <td>465000</td>\n",
       "      <td>2011-10-28 00:00</td>\n",
       "      <td>D</td>\n",
       "      <td>N</td>\n",
       "      <td>F</td>\n",
       "      <td>TUNBRIDGE WELLS</td>\n",
       "      <td>TUNBRIDGE WELLS</td>\n",
       "      <td>KENT</td>\n",
       "      <td>A</td>\n",
       "      <td>A</td>\n",
       "    </tr>\n",
       "    <tr>\n",
       "      <th>7902971</th>\n",
       "      <td>{8089D38E-3019-4A39-9155-46D5C526D630}</td>\n",
       "      <td>175750</td>\n",
       "      <td>2002-10-04 00:00</td>\n",
       "      <td>D</td>\n",
       "      <td>N</td>\n",
       "      <td>F</td>\n",
       "      <td>ALDEBURGH</td>\n",
       "      <td>SUFFOLK COASTAL</td>\n",
       "      <td>SUFFOLK</td>\n",
       "      <td>A</td>\n",
       "      <td>A</td>\n",
       "    </tr>\n",
       "    <tr>\n",
       "      <th>21587209</th>\n",
       "      <td>{3B7E0B90-69B1-EA99-E050-A8C062057E77}</td>\n",
       "      <td>293000</td>\n",
       "      <td>2016-04-12 00:00</td>\n",
       "      <td>F</td>\n",
       "      <td>N</td>\n",
       "      <td>L</td>\n",
       "      <td>LONDON</td>\n",
       "      <td>CROYDON</td>\n",
       "      <td>GREATER LONDON</td>\n",
       "      <td>A</td>\n",
       "      <td>A</td>\n",
       "    </tr>\n",
       "    <tr>\n",
       "      <th>3956496</th>\n",
       "      <td>{7F6D0585-AC3E-41F2-8D95-8E9052FA3C6F}</td>\n",
       "      <td>173000</td>\n",
       "      <td>1999-06-30 00:00</td>\n",
       "      <td>D</td>\n",
       "      <td>N</td>\n",
       "      <td>F</td>\n",
       "      <td>WOKINGHAM</td>\n",
       "      <td>WOKINGHAM</td>\n",
       "      <td>WOKINGHAM</td>\n",
       "      <td>A</td>\n",
       "      <td>A</td>\n",
       "    </tr>\n",
       "  </tbody>\n",
       "</table>\n",
       "</div>"
      ],
      "text/plain": [
       "                   Transaction unique identifier   Price  Date of Transfer  \\\n",
       "3529864   {E6089F5E-E617-4FAC-A41F-5A249F1A750D}   76000  1998-11-02 00:00   \n",
       "17475064  {0B87DD3C-39E1-4FA0-B659-7F407EC9E1E2}  465000  2011-10-28 00:00   \n",
       "7902971   {8089D38E-3019-4A39-9155-46D5C526D630}  175750  2002-10-04 00:00   \n",
       "21587209  {3B7E0B90-69B1-EA99-E050-A8C062057E77}  293000  2016-04-12 00:00   \n",
       "3956496   {7F6D0585-AC3E-41F2-8D95-8E9052FA3C6F}  173000  1999-06-30 00:00   \n",
       "\n",
       "         Property Type Old/New Duration        Town/City         District  \\\n",
       "3529864              T       N        F          NEWBURY   WEST BERKSHIRE   \n",
       "17475064             D       N        F  TUNBRIDGE WELLS  TUNBRIDGE WELLS   \n",
       "7902971              D       N        F        ALDEBURGH  SUFFOLK COASTAL   \n",
       "21587209             F       N        L           LONDON          CROYDON   \n",
       "3956496              D       N        F        WOKINGHAM        WOKINGHAM   \n",
       "\n",
       "                  County PPDCategory Type Record Status  \n",
       "3529864   WEST BERKSHIRE                A             A  \n",
       "17475064            KENT                A             A  \n",
       "7902971          SUFFOLK                A             A  \n",
       "21587209  GREATER LONDON                A             A  \n",
       "3956496        WOKINGHAM                A             A  "
      ]
     },
     "execution_count": 9,
     "metadata": {},
     "output_type": "execute_result"
    }
   ],
   "source": [
    "df.head()"
   ]
  },
  {
   "cell_type": "code",
   "execution_count": 10,
   "metadata": {},
   "outputs": [
    {
     "data": {
      "text/plain": [
       "(500000, 11)"
      ]
     },
     "execution_count": 10,
     "metadata": {},
     "output_type": "execute_result"
    }
   ],
   "source": [
    "df.shape"
   ]
  },
  {
   "cell_type": "markdown",
   "metadata": {},
   "source": [
    "There are 27 million rows and 11 columns in the dataset"
   ]
  },
  {
   "cell_type": "markdown",
   "metadata": {},
   "source": [
    "### 3. Data Cleaning"
   ]
  },
  {
   "cell_type": "code",
   "execution_count": 11,
   "metadata": {},
   "outputs": [
    {
     "data": {
      "text/plain": [
       "Transaction unique identifier    0\n",
       "Price                            0\n",
       "Date of Transfer                 0\n",
       "Property Type                    0\n",
       "Old/New                          0\n",
       "Duration                         0\n",
       "Town/City                        0\n",
       "District                         0\n",
       "County                           0\n",
       "PPDCategory Type                 0\n",
       "Record Status                    0\n",
       "dtype: int64"
      ]
     },
     "execution_count": 11,
     "metadata": {},
     "output_type": "execute_result"
    }
   ],
   "source": [
    "df.isnull().sum()"
   ]
  },
  {
   "cell_type": "markdown",
   "metadata": {},
   "source": [
    "Here we can observe that there are no null values in any of the columns. So we don't need to perform further steps for handling null values."
   ]
  },
  {
   "cell_type": "markdown",
   "metadata": {},
   "source": [
    "* Dropping unwanted columns\n",
    "    - Transation unique identifier : Not co-related with the price column\n",
    "    - PPD Category Type : It is similar to duration column.\n",
    "    - Record Status : It contains monthly file only Indicates additions, changes and deletions to the records so not necessary."
   ]
  },
  {
   "cell_type": "code",
   "execution_count": 12,
   "metadata": {},
   "outputs": [],
   "source": [
    "df.drop(columns = 'Transaction unique identifier', axis = 1, inplace = True)\n",
    "df.drop(columns = 'PPDCategory Type', axis = 1, inplace = True)\n",
    "df.drop(columns = 'Record Status', axis = 1, inplace = True)"
   ]
  },
  {
   "cell_type": "code",
   "execution_count": 13,
   "metadata": {},
   "outputs": [
    {
     "data": {
      "text/html": [
       "<div>\n",
       "<style scoped>\n",
       "    .dataframe tbody tr th:only-of-type {\n",
       "        vertical-align: middle;\n",
       "    }\n",
       "\n",
       "    .dataframe tbody tr th {\n",
       "        vertical-align: top;\n",
       "    }\n",
       "\n",
       "    .dataframe thead th {\n",
       "        text-align: right;\n",
       "    }\n",
       "</style>\n",
       "<table border=\"1\" class=\"dataframe\">\n",
       "  <thead>\n",
       "    <tr style=\"text-align: right;\">\n",
       "      <th></th>\n",
       "      <th>Price</th>\n",
       "      <th>Date of Transfer</th>\n",
       "      <th>Property Type</th>\n",
       "      <th>Old/New</th>\n",
       "      <th>Duration</th>\n",
       "      <th>Town/City</th>\n",
       "      <th>District</th>\n",
       "      <th>County</th>\n",
       "    </tr>\n",
       "  </thead>\n",
       "  <tbody>\n",
       "    <tr>\n",
       "      <th>3529864</th>\n",
       "      <td>76000</td>\n",
       "      <td>1998-11-02 00:00</td>\n",
       "      <td>T</td>\n",
       "      <td>N</td>\n",
       "      <td>F</td>\n",
       "      <td>NEWBURY</td>\n",
       "      <td>WEST BERKSHIRE</td>\n",
       "      <td>WEST BERKSHIRE</td>\n",
       "    </tr>\n",
       "    <tr>\n",
       "      <th>17475064</th>\n",
       "      <td>465000</td>\n",
       "      <td>2011-10-28 00:00</td>\n",
       "      <td>D</td>\n",
       "      <td>N</td>\n",
       "      <td>F</td>\n",
       "      <td>TUNBRIDGE WELLS</td>\n",
       "      <td>TUNBRIDGE WELLS</td>\n",
       "      <td>KENT</td>\n",
       "    </tr>\n",
       "    <tr>\n",
       "      <th>7902971</th>\n",
       "      <td>175750</td>\n",
       "      <td>2002-10-04 00:00</td>\n",
       "      <td>D</td>\n",
       "      <td>N</td>\n",
       "      <td>F</td>\n",
       "      <td>ALDEBURGH</td>\n",
       "      <td>SUFFOLK COASTAL</td>\n",
       "      <td>SUFFOLK</td>\n",
       "    </tr>\n",
       "    <tr>\n",
       "      <th>21587209</th>\n",
       "      <td>293000</td>\n",
       "      <td>2016-04-12 00:00</td>\n",
       "      <td>F</td>\n",
       "      <td>N</td>\n",
       "      <td>L</td>\n",
       "      <td>LONDON</td>\n",
       "      <td>CROYDON</td>\n",
       "      <td>GREATER LONDON</td>\n",
       "    </tr>\n",
       "    <tr>\n",
       "      <th>3956496</th>\n",
       "      <td>173000</td>\n",
       "      <td>1999-06-30 00:00</td>\n",
       "      <td>D</td>\n",
       "      <td>N</td>\n",
       "      <td>F</td>\n",
       "      <td>WOKINGHAM</td>\n",
       "      <td>WOKINGHAM</td>\n",
       "      <td>WOKINGHAM</td>\n",
       "    </tr>\n",
       "  </tbody>\n",
       "</table>\n",
       "</div>"
      ],
      "text/plain": [
       "           Price  Date of Transfer Property Type Old/New Duration  \\\n",
       "3529864    76000  1998-11-02 00:00             T       N        F   \n",
       "17475064  465000  2011-10-28 00:00             D       N        F   \n",
       "7902971   175750  2002-10-04 00:00             D       N        F   \n",
       "21587209  293000  2016-04-12 00:00             F       N        L   \n",
       "3956496   173000  1999-06-30 00:00             D       N        F   \n",
       "\n",
       "                Town/City         District          County  \n",
       "3529864           NEWBURY   WEST BERKSHIRE  WEST BERKSHIRE  \n",
       "17475064  TUNBRIDGE WELLS  TUNBRIDGE WELLS            KENT  \n",
       "7902971         ALDEBURGH  SUFFOLK COASTAL         SUFFOLK  \n",
       "21587209           LONDON          CROYDON  GREATER LONDON  \n",
       "3956496         WOKINGHAM        WOKINGHAM       WOKINGHAM  "
      ]
     },
     "execution_count": 13,
     "metadata": {},
     "output_type": "execute_result"
    }
   ],
   "source": [
    "df.head()"
   ]
  },
  {
   "cell_type": "code",
   "execution_count": 14,
   "metadata": {},
   "outputs": [],
   "source": [
    "#importing datetime library\n",
    "from datetime import datetime"
   ]
  },
  {
   "cell_type": "code",
   "execution_count": 15,
   "metadata": {},
   "outputs": [],
   "source": [
    "df['Year'] = df['Date of Transfer'].str[:4]"
   ]
  },
  {
   "cell_type": "code",
   "execution_count": 16,
   "metadata": {},
   "outputs": [],
   "source": [
    "df['Date of Transfer'] = [x[:11] for x in df['Date of Transfer']]"
   ]
  },
  {
   "cell_type": "code",
   "execution_count": 17,
   "metadata": {},
   "outputs": [],
   "source": [
    "df['Month'] = df['Date of Transfer'].str[5:7]"
   ]
  },
  {
   "cell_type": "code",
   "execution_count": 18,
   "metadata": {},
   "outputs": [
    {
     "data": {
      "text/html": [
       "<div>\n",
       "<style scoped>\n",
       "    .dataframe tbody tr th:only-of-type {\n",
       "        vertical-align: middle;\n",
       "    }\n",
       "\n",
       "    .dataframe tbody tr th {\n",
       "        vertical-align: top;\n",
       "    }\n",
       "\n",
       "    .dataframe thead th {\n",
       "        text-align: right;\n",
       "    }\n",
       "</style>\n",
       "<table border=\"1\" class=\"dataframe\">\n",
       "  <thead>\n",
       "    <tr style=\"text-align: right;\">\n",
       "      <th></th>\n",
       "      <th>Price</th>\n",
       "      <th>Date of Transfer</th>\n",
       "      <th>Property Type</th>\n",
       "      <th>Old/New</th>\n",
       "      <th>Duration</th>\n",
       "      <th>Town/City</th>\n",
       "      <th>District</th>\n",
       "      <th>County</th>\n",
       "      <th>Year</th>\n",
       "      <th>Month</th>\n",
       "    </tr>\n",
       "  </thead>\n",
       "  <tbody>\n",
       "    <tr>\n",
       "      <th>3529864</th>\n",
       "      <td>76000</td>\n",
       "      <td>1998-11-02</td>\n",
       "      <td>T</td>\n",
       "      <td>N</td>\n",
       "      <td>F</td>\n",
       "      <td>NEWBURY</td>\n",
       "      <td>WEST BERKSHIRE</td>\n",
       "      <td>WEST BERKSHIRE</td>\n",
       "      <td>1998</td>\n",
       "      <td>11</td>\n",
       "    </tr>\n",
       "    <tr>\n",
       "      <th>17475064</th>\n",
       "      <td>465000</td>\n",
       "      <td>2011-10-28</td>\n",
       "      <td>D</td>\n",
       "      <td>N</td>\n",
       "      <td>F</td>\n",
       "      <td>TUNBRIDGE WELLS</td>\n",
       "      <td>TUNBRIDGE WELLS</td>\n",
       "      <td>KENT</td>\n",
       "      <td>2011</td>\n",
       "      <td>10</td>\n",
       "    </tr>\n",
       "    <tr>\n",
       "      <th>7902971</th>\n",
       "      <td>175750</td>\n",
       "      <td>2002-10-04</td>\n",
       "      <td>D</td>\n",
       "      <td>N</td>\n",
       "      <td>F</td>\n",
       "      <td>ALDEBURGH</td>\n",
       "      <td>SUFFOLK COASTAL</td>\n",
       "      <td>SUFFOLK</td>\n",
       "      <td>2002</td>\n",
       "      <td>10</td>\n",
       "    </tr>\n",
       "    <tr>\n",
       "      <th>21587209</th>\n",
       "      <td>293000</td>\n",
       "      <td>2016-04-12</td>\n",
       "      <td>F</td>\n",
       "      <td>N</td>\n",
       "      <td>L</td>\n",
       "      <td>LONDON</td>\n",
       "      <td>CROYDON</td>\n",
       "      <td>GREATER LONDON</td>\n",
       "      <td>2016</td>\n",
       "      <td>04</td>\n",
       "    </tr>\n",
       "    <tr>\n",
       "      <th>3956496</th>\n",
       "      <td>173000</td>\n",
       "      <td>1999-06-30</td>\n",
       "      <td>D</td>\n",
       "      <td>N</td>\n",
       "      <td>F</td>\n",
       "      <td>WOKINGHAM</td>\n",
       "      <td>WOKINGHAM</td>\n",
       "      <td>WOKINGHAM</td>\n",
       "      <td>1999</td>\n",
       "      <td>06</td>\n",
       "    </tr>\n",
       "  </tbody>\n",
       "</table>\n",
       "</div>"
      ],
      "text/plain": [
       "           Price Date of Transfer Property Type Old/New Duration  \\\n",
       "3529864    76000      1998-11-02              T       N        F   \n",
       "17475064  465000      2011-10-28              D       N        F   \n",
       "7902971   175750      2002-10-04              D       N        F   \n",
       "21587209  293000      2016-04-12              F       N        L   \n",
       "3956496   173000      1999-06-30              D       N        F   \n",
       "\n",
       "                Town/City         District          County  Year Month  \n",
       "3529864           NEWBURY   WEST BERKSHIRE  WEST BERKSHIRE  1998    11  \n",
       "17475064  TUNBRIDGE WELLS  TUNBRIDGE WELLS            KENT  2011    10  \n",
       "7902971         ALDEBURGH  SUFFOLK COASTAL         SUFFOLK  2002    10  \n",
       "21587209           LONDON          CROYDON  GREATER LONDON  2016    04  \n",
       "3956496         WOKINGHAM        WOKINGHAM       WOKINGHAM  1999    06  "
      ]
     },
     "execution_count": 18,
     "metadata": {},
     "output_type": "execute_result"
    }
   ],
   "source": [
    "df.head()"
   ]
  },
  {
   "cell_type": "code",
   "execution_count": 19,
   "metadata": {},
   "outputs": [
    {
     "data": {
      "text/html": [
       "<div>\n",
       "<style scoped>\n",
       "    .dataframe tbody tr th:only-of-type {\n",
       "        vertical-align: middle;\n",
       "    }\n",
       "\n",
       "    .dataframe tbody tr th {\n",
       "        vertical-align: top;\n",
       "    }\n",
       "\n",
       "    .dataframe thead th {\n",
       "        text-align: right;\n",
       "    }\n",
       "</style>\n",
       "<table border=\"1\" class=\"dataframe\">\n",
       "  <thead>\n",
       "    <tr style=\"text-align: right;\">\n",
       "      <th></th>\n",
       "      <th>Price</th>\n",
       "      <th>Date of Transfer</th>\n",
       "      <th>Property Type</th>\n",
       "      <th>Old/New</th>\n",
       "      <th>Duration</th>\n",
       "      <th>Town/City</th>\n",
       "      <th>District</th>\n",
       "      <th>County</th>\n",
       "      <th>Year</th>\n",
       "      <th>Month</th>\n",
       "    </tr>\n",
       "  </thead>\n",
       "  <tbody>\n",
       "    <tr>\n",
       "      <th>9319733</th>\n",
       "      <td>130000</td>\n",
       "      <td>2003-12-19</td>\n",
       "      <td>T</td>\n",
       "      <td>N</td>\n",
       "      <td>F</td>\n",
       "      <td>HARLOW</td>\n",
       "      <td>HARLOW</td>\n",
       "      <td>ESSEX</td>\n",
       "      <td>2003</td>\n",
       "      <td>12</td>\n",
       "    </tr>\n",
       "    <tr>\n",
       "      <th>3095738</th>\n",
       "      <td>210000</td>\n",
       "      <td>1998-06-11</td>\n",
       "      <td>D</td>\n",
       "      <td>Y</td>\n",
       "      <td>F</td>\n",
       "      <td>SALTASH</td>\n",
       "      <td>CARADON</td>\n",
       "      <td>CORNWALL</td>\n",
       "      <td>1998</td>\n",
       "      <td>06</td>\n",
       "    </tr>\n",
       "    <tr>\n",
       "      <th>452418</th>\n",
       "      <td>43000</td>\n",
       "      <td>1995-06-26</td>\n",
       "      <td>T</td>\n",
       "      <td>N</td>\n",
       "      <td>F</td>\n",
       "      <td>LOWESTOFT</td>\n",
       "      <td>WAVENEY</td>\n",
       "      <td>SUFFOLK</td>\n",
       "      <td>1995</td>\n",
       "      <td>06</td>\n",
       "    </tr>\n",
       "    <tr>\n",
       "      <th>20589667</th>\n",
       "      <td>280000</td>\n",
       "      <td>2015-10-14</td>\n",
       "      <td>T</td>\n",
       "      <td>N</td>\n",
       "      <td>L</td>\n",
       "      <td>SHEFFIELD</td>\n",
       "      <td>SHEFFIELD</td>\n",
       "      <td>SOUTH YORKSHIRE</td>\n",
       "      <td>2015</td>\n",
       "      <td>10</td>\n",
       "    </tr>\n",
       "    <tr>\n",
       "      <th>12699276</th>\n",
       "      <td>165000</td>\n",
       "      <td>2006-08-11</td>\n",
       "      <td>T</td>\n",
       "      <td>N</td>\n",
       "      <td>F</td>\n",
       "      <td>DARTFORD</td>\n",
       "      <td>DARTFORD</td>\n",
       "      <td>KENT</td>\n",
       "      <td>2006</td>\n",
       "      <td>08</td>\n",
       "    </tr>\n",
       "  </tbody>\n",
       "</table>\n",
       "</div>"
      ],
      "text/plain": [
       "           Price Date of Transfer Property Type Old/New Duration  Town/City  \\\n",
       "9319733   130000      2003-12-19              T       N        F     HARLOW   \n",
       "3095738   210000      1998-06-11              D       Y        F    SALTASH   \n",
       "452418     43000      1995-06-26              T       N        F  LOWESTOFT   \n",
       "20589667  280000      2015-10-14              T       N        L  SHEFFIELD   \n",
       "12699276  165000      2006-08-11              T       N        F   DARTFORD   \n",
       "\n",
       "           District           County  Year Month  \n",
       "9319733      HARLOW            ESSEX  2003    12  \n",
       "3095738     CARADON         CORNWALL  1998    06  \n",
       "452418      WAVENEY          SUFFOLK  1995    06  \n",
       "20589667  SHEFFIELD  SOUTH YORKSHIRE  2015    10  \n",
       "12699276   DARTFORD             KENT  2006    08  "
      ]
     },
     "execution_count": 19,
     "metadata": {},
     "output_type": "execute_result"
    }
   ],
   "source": [
    "df.tail()"
   ]
  },
  {
   "cell_type": "code",
   "execution_count": 20,
   "metadata": {},
   "outputs": [
    {
     "data": {
      "text/plain": [
       "Price               7333\n",
       "Date of Transfer    7333\n",
       "Property Type       7333\n",
       "Old/New             7333\n",
       "Duration            7333\n",
       "Town/City           7333\n",
       "District            7333\n",
       "County              7333\n",
       "Year                7333\n",
       "Month               7333\n",
       "dtype: int64"
      ]
     },
     "execution_count": 20,
     "metadata": {},
     "output_type": "execute_result"
    }
   ],
   "source": [
    "df[df['Property Type'] == 'O'].count()"
   ]
  },
  {
   "cell_type": "markdown",
   "metadata": {},
   "source": [
    "Property type O is very less as compared to other property types, so we can drop it."
   ]
  },
  {
   "cell_type": "code",
   "execution_count": 21,
   "metadata": {},
   "outputs": [],
   "source": [
    "df = df[df['Property Type'] != 'O'].copy()"
   ]
  },
  {
   "cell_type": "markdown",
   "metadata": {},
   "source": [
    "# EDA"
   ]
  },
  {
   "cell_type": "markdown",
   "metadata": {},
   "source": [
    "### Number of cities, districts and counties."
   ]
  },
  {
   "cell_type": "code",
   "execution_count": 22,
   "metadata": {},
   "outputs": [
    {
     "name": "stdout",
     "output_type": "stream",
     "text": [
      "Number of Cities: 1163\n",
      "Number of Districts: 458\n",
      "Number of Counties: 130\n"
     ]
    }
   ],
   "source": [
    "print('Number of Cities:', df['Town/City'].nunique())\n",
    "print('Number of Districts:', df['District'].nunique())\n",
    "print('Number of Counties:', df['County'].nunique())"
   ]
  },
  {
   "cell_type": "code",
   "execution_count": 23,
   "metadata": {},
   "outputs": [
    {
     "data": {
      "text/plain": [
       "28"
      ]
     },
     "execution_count": 23,
     "metadata": {},
     "output_type": "execute_result"
    }
   ],
   "source": [
    "df['Year'].nunique()"
   ]
  },
  {
   "cell_type": "markdown",
   "metadata": {},
   "source": [
    "- List of new investements that were done in 2021"
   ]
  },
  {
   "cell_type": "code",
   "execution_count": 24,
   "metadata": {},
   "outputs": [],
   "source": [
    "df_2021 = df[df['Year'] == '2021'].copy()\n",
    "\n",
    "df_2021['Month'] = df_2021['Date of Transfer'].str[5:7].astype(int)\n",
    "\n",
    "df_2021_price_per_month = df_2021.groupby(['Property Type','Month'], as_index=False)['Price'].median()"
   ]
  },
  {
   "cell_type": "code",
   "execution_count": 25,
   "metadata": {},
   "outputs": [],
   "source": [
    "df_2021['Month'] = df_2021['Month'].astype(int)"
   ]
  },
  {
   "cell_type": "markdown",
   "metadata": {},
   "source": [
    "- Distribution of investments done in the year 2021 by Property Type"
   ]
  },
  {
   "cell_type": "code",
   "execution_count": 26,
   "metadata": {},
   "outputs": [
    {
     "data": {
      "text/plain": [
       "<seaborn.axisgrid.FacetGrid at 0x21a4a75dfa0>"
      ]
     },
     "execution_count": 26,
     "metadata": {},
     "output_type": "execute_result"
    },
    {
     "data": {
      "image/png": "[encoded data removed]",
      "text/plain": [
       "<Figure size 1155.88x360 with 1 Axes>"
      ]
     },
     "metadata": {
      "needs_background": "light"
     },
     "output_type": "display_data"
    }
   ],
   "source": [
    "sns.relplot(kind='line', data = df_2021_price_per_month, x = 'Month', y = 'Price', hue = 'Property Type', aspect = 3)"
   ]
  },
  {
   "cell_type": "markdown",
   "metadata": {},
   "source": [
    "## Data Cleaning Part - 2"
   ]
  },
  {
   "cell_type": "code",
   "execution_count": 27,
   "metadata": {},
   "outputs": [],
   "source": [
    "df.drop(columns = 'Date of Transfer', axis = 1, inplace = True)"
   ]
  },
  {
   "cell_type": "code",
   "execution_count": 28,
   "metadata": {},
   "outputs": [
    {
     "data": {
      "text/html": [
       "<div>\n",
       "<style scoped>\n",
       "    .dataframe tbody tr th:only-of-type {\n",
       "        vertical-align: middle;\n",
       "    }\n",
       "\n",
       "    .dataframe tbody tr th {\n",
       "        vertical-align: top;\n",
       "    }\n",
       "\n",
       "    .dataframe thead th {\n",
       "        text-align: right;\n",
       "    }\n",
       "</style>\n",
       "<table border=\"1\" class=\"dataframe\">\n",
       "  <thead>\n",
       "    <tr style=\"text-align: right;\">\n",
       "      <th></th>\n",
       "      <th>Price</th>\n",
       "      <th>Property Type</th>\n",
       "      <th>Old/New</th>\n",
       "      <th>Duration</th>\n",
       "      <th>Town/City</th>\n",
       "      <th>District</th>\n",
       "      <th>County</th>\n",
       "      <th>Year</th>\n",
       "      <th>Month</th>\n",
       "    </tr>\n",
       "  </thead>\n",
       "  <tbody>\n",
       "    <tr>\n",
       "      <th>3529864</th>\n",
       "      <td>76000</td>\n",
       "      <td>T</td>\n",
       "      <td>N</td>\n",
       "      <td>F</td>\n",
       "      <td>NEWBURY</td>\n",
       "      <td>WEST BERKSHIRE</td>\n",
       "      <td>WEST BERKSHIRE</td>\n",
       "      <td>1998</td>\n",
       "      <td>11</td>\n",
       "    </tr>\n",
       "    <tr>\n",
       "      <th>17475064</th>\n",
       "      <td>465000</td>\n",
       "      <td>D</td>\n",
       "      <td>N</td>\n",
       "      <td>F</td>\n",
       "      <td>TUNBRIDGE WELLS</td>\n",
       "      <td>TUNBRIDGE WELLS</td>\n",
       "      <td>KENT</td>\n",
       "      <td>2011</td>\n",
       "      <td>10</td>\n",
       "    </tr>\n",
       "    <tr>\n",
       "      <th>7902971</th>\n",
       "      <td>175750</td>\n",
       "      <td>D</td>\n",
       "      <td>N</td>\n",
       "      <td>F</td>\n",
       "      <td>ALDEBURGH</td>\n",
       "      <td>SUFFOLK COASTAL</td>\n",
       "      <td>SUFFOLK</td>\n",
       "      <td>2002</td>\n",
       "      <td>10</td>\n",
       "    </tr>\n",
       "    <tr>\n",
       "      <th>21587209</th>\n",
       "      <td>293000</td>\n",
       "      <td>F</td>\n",
       "      <td>N</td>\n",
       "      <td>L</td>\n",
       "      <td>LONDON</td>\n",
       "      <td>CROYDON</td>\n",
       "      <td>GREATER LONDON</td>\n",
       "      <td>2016</td>\n",
       "      <td>04</td>\n",
       "    </tr>\n",
       "    <tr>\n",
       "      <th>3956496</th>\n",
       "      <td>173000</td>\n",
       "      <td>D</td>\n",
       "      <td>N</td>\n",
       "      <td>F</td>\n",
       "      <td>WOKINGHAM</td>\n",
       "      <td>WOKINGHAM</td>\n",
       "      <td>WOKINGHAM</td>\n",
       "      <td>1999</td>\n",
       "      <td>06</td>\n",
       "    </tr>\n",
       "  </tbody>\n",
       "</table>\n",
       "</div>"
      ],
      "text/plain": [
       "           Price Property Type Old/New Duration        Town/City  \\\n",
       "3529864    76000             T       N        F          NEWBURY   \n",
       "17475064  465000             D       N        F  TUNBRIDGE WELLS   \n",
       "7902971   175750             D       N        F        ALDEBURGH   \n",
       "21587209  293000             F       N        L           LONDON   \n",
       "3956496   173000             D       N        F        WOKINGHAM   \n",
       "\n",
       "                 District          County  Year Month  \n",
       "3529864    WEST BERKSHIRE  WEST BERKSHIRE  1998    11  \n",
       "17475064  TUNBRIDGE WELLS            KENT  2011    10  \n",
       "7902971   SUFFOLK COASTAL         SUFFOLK  2002    10  \n",
       "21587209          CROYDON  GREATER LONDON  2016    04  \n",
       "3956496         WOKINGHAM       WOKINGHAM  1999    06  "
      ]
     },
     "execution_count": 28,
     "metadata": {},
     "output_type": "execute_result"
    }
   ],
   "source": [
    "df.head()"
   ]
  },
  {
   "cell_type": "markdown",
   "metadata": {},
   "source": [
    "### Applying One-Hot Encoder \n",
    "0 for No(OLD), 1 for Yes(NEW)"
   ]
  },
  {
   "cell_type": "code",
   "execution_count": 29,
   "metadata": {},
   "outputs": [
    {
     "data": {
      "text/html": [
       "<div>\n",
       "<style scoped>\n",
       "    .dataframe tbody tr th:only-of-type {\n",
       "        vertical-align: middle;\n",
       "    }\n",
       "\n",
       "    .dataframe tbody tr th {\n",
       "        vertical-align: top;\n",
       "    }\n",
       "\n",
       "    .dataframe thead th {\n",
       "        text-align: right;\n",
       "    }\n",
       "</style>\n",
       "<table border=\"1\" class=\"dataframe\">\n",
       "  <thead>\n",
       "    <tr style=\"text-align: right;\">\n",
       "      <th></th>\n",
       "      <th>Price</th>\n",
       "      <th>Property Type</th>\n",
       "      <th>Old/New</th>\n",
       "      <th>Duration</th>\n",
       "      <th>Town/City</th>\n",
       "      <th>District</th>\n",
       "      <th>County</th>\n",
       "      <th>Year</th>\n",
       "      <th>Month</th>\n",
       "    </tr>\n",
       "  </thead>\n",
       "  <tbody>\n",
       "    <tr>\n",
       "      <th>3529864</th>\n",
       "      <td>76000</td>\n",
       "      <td>T</td>\n",
       "      <td>0</td>\n",
       "      <td>F</td>\n",
       "      <td>NEWBURY</td>\n",
       "      <td>WEST BERKSHIRE</td>\n",
       "      <td>WEST BERKSHIRE</td>\n",
       "      <td>1998</td>\n",
       "      <td>11</td>\n",
       "    </tr>\n",
       "    <tr>\n",
       "      <th>17475064</th>\n",
       "      <td>465000</td>\n",
       "      <td>D</td>\n",
       "      <td>0</td>\n",
       "      <td>F</td>\n",
       "      <td>TUNBRIDGE WELLS</td>\n",
       "      <td>TUNBRIDGE WELLS</td>\n",
       "      <td>KENT</td>\n",
       "      <td>2011</td>\n",
       "      <td>10</td>\n",
       "    </tr>\n",
       "    <tr>\n",
       "      <th>7902971</th>\n",
       "      <td>175750</td>\n",
       "      <td>D</td>\n",
       "      <td>0</td>\n",
       "      <td>F</td>\n",
       "      <td>ALDEBURGH</td>\n",
       "      <td>SUFFOLK COASTAL</td>\n",
       "      <td>SUFFOLK</td>\n",
       "      <td>2002</td>\n",
       "      <td>10</td>\n",
       "    </tr>\n",
       "    <tr>\n",
       "      <th>21587209</th>\n",
       "      <td>293000</td>\n",
       "      <td>F</td>\n",
       "      <td>0</td>\n",
       "      <td>L</td>\n",
       "      <td>LONDON</td>\n",
       "      <td>CROYDON</td>\n",
       "      <td>GREATER LONDON</td>\n",
       "      <td>2016</td>\n",
       "      <td>04</td>\n",
       "    </tr>\n",
       "    <tr>\n",
       "      <th>3956496</th>\n",
       "      <td>173000</td>\n",
       "      <td>D</td>\n",
       "      <td>0</td>\n",
       "      <td>F</td>\n",
       "      <td>WOKINGHAM</td>\n",
       "      <td>WOKINGHAM</td>\n",
       "      <td>WOKINGHAM</td>\n",
       "      <td>1999</td>\n",
       "      <td>06</td>\n",
       "    </tr>\n",
       "  </tbody>\n",
       "</table>\n",
       "</div>"
      ],
      "text/plain": [
       "           Price Property Type  Old/New Duration        Town/City  \\\n",
       "3529864    76000             T        0        F          NEWBURY   \n",
       "17475064  465000             D        0        F  TUNBRIDGE WELLS   \n",
       "7902971   175750             D        0        F        ALDEBURGH   \n",
       "21587209  293000             F        0        L           LONDON   \n",
       "3956496   173000             D        0        F        WOKINGHAM   \n",
       "\n",
       "                 District          County  Year Month  \n",
       "3529864    WEST BERKSHIRE  WEST BERKSHIRE  1998    11  \n",
       "17475064  TUNBRIDGE WELLS            KENT  2011    10  \n",
       "7902971   SUFFOLK COASTAL         SUFFOLK  2002    10  \n",
       "21587209          CROYDON  GREATER LONDON  2016    04  \n",
       "3956496         WOKINGHAM       WOKINGHAM  1999    06  "
      ]
     },
     "execution_count": 29,
     "metadata": {},
     "output_type": "execute_result"
    }
   ],
   "source": [
    "from sklearn.preprocessing import LabelEncoder\n",
    "\n",
    "le = LabelEncoder()\n",
    "\n",
    "le.fit(df['Old/New'])\n",
    "\n",
    "df['Old/New'] = le.transform(df['Old/New'])\n",
    "\n",
    "df.head()\n"
   ]
  },
  {
   "cell_type": "code",
   "execution_count": 30,
   "metadata": {},
   "outputs": [
    {
     "data": {
      "text/html": [
       "<div>\n",
       "<style scoped>\n",
       "    .dataframe tbody tr th:only-of-type {\n",
       "        vertical-align: middle;\n",
       "    }\n",
       "\n",
       "    .dataframe tbody tr th {\n",
       "        vertical-align: top;\n",
       "    }\n",
       "\n",
       "    .dataframe thead th {\n",
       "        text-align: right;\n",
       "    }\n",
       "</style>\n",
       "<table border=\"1\" class=\"dataframe\">\n",
       "  <thead>\n",
       "    <tr style=\"text-align: right;\">\n",
       "      <th></th>\n",
       "      <th>Price</th>\n",
       "      <th>Old/New</th>\n",
       "      <th>Duration</th>\n",
       "      <th>Town/City</th>\n",
       "      <th>District</th>\n",
       "      <th>County</th>\n",
       "      <th>Year</th>\n",
       "      <th>Month</th>\n",
       "      <th>Property_Type_is__D</th>\n",
       "      <th>Property_Type_is__F</th>\n",
       "      <th>Property_Type_is__S</th>\n",
       "      <th>Property_Type_is__T</th>\n",
       "    </tr>\n",
       "  </thead>\n",
       "  <tbody>\n",
       "    <tr>\n",
       "      <th>3529864</th>\n",
       "      <td>76000</td>\n",
       "      <td>0</td>\n",
       "      <td>F</td>\n",
       "      <td>NEWBURY</td>\n",
       "      <td>WEST BERKSHIRE</td>\n",
       "      <td>WEST BERKSHIRE</td>\n",
       "      <td>1998</td>\n",
       "      <td>11</td>\n",
       "      <td>0</td>\n",
       "      <td>0</td>\n",
       "      <td>0</td>\n",
       "      <td>1</td>\n",
       "    </tr>\n",
       "    <tr>\n",
       "      <th>17475064</th>\n",
       "      <td>465000</td>\n",
       "      <td>0</td>\n",
       "      <td>F</td>\n",
       "      <td>TUNBRIDGE WELLS</td>\n",
       "      <td>TUNBRIDGE WELLS</td>\n",
       "      <td>KENT</td>\n",
       "      <td>2011</td>\n",
       "      <td>10</td>\n",
       "      <td>1</td>\n",
       "      <td>0</td>\n",
       "      <td>0</td>\n",
       "      <td>0</td>\n",
       "    </tr>\n",
       "    <tr>\n",
       "      <th>7902971</th>\n",
       "      <td>175750</td>\n",
       "      <td>0</td>\n",
       "      <td>F</td>\n",
       "      <td>ALDEBURGH</td>\n",
       "      <td>SUFFOLK COASTAL</td>\n",
       "      <td>SUFFOLK</td>\n",
       "      <td>2002</td>\n",
       "      <td>10</td>\n",
       "      <td>1</td>\n",
       "      <td>0</td>\n",
       "      <td>0</td>\n",
       "      <td>0</td>\n",
       "    </tr>\n",
       "    <tr>\n",
       "      <th>21587209</th>\n",
       "      <td>293000</td>\n",
       "      <td>0</td>\n",
       "      <td>L</td>\n",
       "      <td>LONDON</td>\n",
       "      <td>CROYDON</td>\n",
       "      <td>GREATER LONDON</td>\n",
       "      <td>2016</td>\n",
       "      <td>04</td>\n",
       "      <td>0</td>\n",
       "      <td>1</td>\n",
       "      <td>0</td>\n",
       "      <td>0</td>\n",
       "    </tr>\n",
       "    <tr>\n",
       "      <th>3956496</th>\n",
       "      <td>173000</td>\n",
       "      <td>0</td>\n",
       "      <td>F</td>\n",
       "      <td>WOKINGHAM</td>\n",
       "      <td>WOKINGHAM</td>\n",
       "      <td>WOKINGHAM</td>\n",
       "      <td>1999</td>\n",
       "      <td>06</td>\n",
       "      <td>1</td>\n",
       "      <td>0</td>\n",
       "      <td>0</td>\n",
       "      <td>0</td>\n",
       "    </tr>\n",
       "  </tbody>\n",
       "</table>\n",
       "</div>"
      ],
      "text/plain": [
       "           Price  Old/New Duration        Town/City         District  \\\n",
       "3529864    76000        0        F          NEWBURY   WEST BERKSHIRE   \n",
       "17475064  465000        0        F  TUNBRIDGE WELLS  TUNBRIDGE WELLS   \n",
       "7902971   175750        0        F        ALDEBURGH  SUFFOLK COASTAL   \n",
       "21587209  293000        0        L           LONDON          CROYDON   \n",
       "3956496   173000        0        F        WOKINGHAM        WOKINGHAM   \n",
       "\n",
       "                  County  Year Month  Property_Type_is__D  \\\n",
       "3529864   WEST BERKSHIRE  1998    11                    0   \n",
       "17475064            KENT  2011    10                    1   \n",
       "7902971          SUFFOLK  2002    10                    1   \n",
       "21587209  GREATER LONDON  2016    04                    0   \n",
       "3956496        WOKINGHAM  1999    06                    1   \n",
       "\n",
       "          Property_Type_is__F  Property_Type_is__S  Property_Type_is__T  \n",
       "3529864                     0                    0                    1  \n",
       "17475064                    0                    0                    0  \n",
       "7902971                     0                    0                    0  \n",
       "21587209                    1                    0                    0  \n",
       "3956496                     0                    0                    0  "
      ]
     },
     "execution_count": 30,
     "metadata": {},
     "output_type": "execute_result"
    }
   ],
   "source": [
    "enc_df = pd.DataFrame(df, columns = ['Property Type'])\n",
    "\n",
    "dum_df = pd.get_dummies(df, columns = [\"Property Type\"], prefix = [\"Property_Type_is_\"] )\n",
    "\n",
    "df2 = enc_df.join(dum_df)\n",
    "\n",
    "df2.drop(columns = 'Property Type', axis = 1, inplace = True)\n",
    "\n",
    "df2.head()"
   ]
  },
  {
   "cell_type": "markdown",
   "metadata": {},
   "source": [
    "- Check is <code>Price</code> records skewed"
   ]
  },
  {
   "cell_type": "code",
   "execution_count": 31,
   "metadata": {},
   "outputs": [
    {
     "data": {
      "text/plain": [
       "20.63591592347932"
      ]
     },
     "execution_count": 31,
     "metadata": {},
     "output_type": "execute_result"
    }
   ],
   "source": [
    "df2[\"Price\"].skew()"
   ]
  },
  {
   "cell_type": "markdown",
   "metadata": {},
   "source": [
    "np.log is used to convert the values in price column to Natural log so that the boxplot is easy to read."
   ]
  },
  {
   "cell_type": "code",
   "execution_count": 32,
   "metadata": {},
   "outputs": [
    {
     "name": "stdout",
     "output_type": "stream",
     "text": [
      "New skewness: -0.07999587752512069\n"
     ]
    }
   ],
   "source": [
    "log_transform_price = np.log(df2[\"Price\"])\n",
    "\n",
    "df2['Price'] = log_transform_price\n",
    "\n",
    "print('New skewness:', log_transform_price.skew())"
   ]
  },
  {
   "cell_type": "code",
   "execution_count": 33,
   "metadata": {},
   "outputs": [
    {
     "data": {
      "text/plain": [
       "<AxesSubplot:xlabel='Price'>"
      ]
     },
     "execution_count": 33,
     "metadata": {},
     "output_type": "execute_result"
    },
    {
     "data": {
      "image/png": "[encoded data removed]",
      "text/plain": [
       "<Figure size 432x288 with 1 Axes>"
      ]
     },
     "metadata": {
      "needs_background": "light"
     },
     "output_type": "display_data"
    }
   ],
   "source": [
    "sns.boxplot(data = df2, x = 'Price')"
   ]
  },
  {
   "cell_type": "markdown",
   "metadata": {},
   "source": [
    "We can see that many outliers are present in the Price column. So we need to deal with the outliers."
   ]
  },
  {
   "cell_type": "markdown",
   "metadata": {},
   "source": [
    "Initialize outliers boundaries"
   ]
  },
  {
   "cell_type": "code",
   "execution_count": 34,
   "metadata": {},
   "outputs": [],
   "source": [
    "lower = 10.0\n",
    "higher = 13.5"
   ]
  },
  {
   "cell_type": "code",
   "execution_count": 35,
   "metadata": {},
   "outputs": [
    {
     "name": "stdout",
     "output_type": "stream",
     "text": [
      "6177 entries having 'Price' value lower than  10.0\n",
      "10087 entries having 'Price' value greater than 13.5\n"
     ]
    }
   ],
   "source": [
    "price_outliers_below = df2.loc[df2['Price'] < lower]\n",
    "price_outliers_abow = df2.loc[df2['Price'] > higher]\n",
    "\n",
    "print(price_outliers_below['Price'].count(), \"entries having 'Price' value lower than \", lower)\n",
    "print(price_outliers_abow['Price'].count(), \"entries having 'Price' value greater than\", higher)"
   ]
  },
  {
   "cell_type": "code",
   "execution_count": 36,
   "metadata": {},
   "outputs": [],
   "source": [
    "df2[\"Price\"] = df2[\"Price\"].apply(lambda x: lower if x < lower else x)\n",
    "\n",
    "df2[\"Price\"] = df2[\"Price\"].apply(lambda x: higher if x > higher else x)"
   ]
  },
  {
   "cell_type": "code",
   "execution_count": 37,
   "metadata": {},
   "outputs": [
    {
     "name": "stdout",
     "output_type": "stream",
     "text": [
      "0 entries having 'Price' value lower than  10.0\n",
      "0 entries having 'Price' value greater than  13.5\n"
     ]
    }
   ],
   "source": [
    "price_outliers_below = df2.loc[df2['Price'] < lower]\n",
    "price_outliers_abow = df2.loc[df2['Price'] > higher]\n",
    "\n",
    "print(price_outliers_below['Price'].count(), \"entries having 'Price' value lower than \", lower)\n",
    "print(price_outliers_abow['Price'].count(), \"entries having 'Price' value greater than \", higher)"
   ]
  },
  {
   "cell_type": "markdown",
   "metadata": {},
   "source": [
    "- Price distribution after dealing with outliers\n"
   ]
  },
  {
   "cell_type": "code",
   "execution_count": 38,
   "metadata": {},
   "outputs": [
    {
     "data": {
      "text/plain": [
       "<AxesSubplot:xlabel='Price'>"
      ]
     },
     "execution_count": 38,
     "metadata": {},
     "output_type": "execute_result"
    },
    {
     "data": {
      "image/png": "[encoded data removed]",
      "text/plain": [
       "<Figure size 432x288 with 1 Axes>"
      ]
     },
     "metadata": {
      "needs_background": "light"
     },
     "output_type": "display_data"
    }
   ],
   "source": [
    "sns.boxplot(data = df2, x = 'Price')"
   ]
  },
  {
   "cell_type": "code",
   "execution_count": 39,
   "metadata": {},
   "outputs": [
    {
     "data": {
      "image/png": "[encoded data removed]",
      "text/plain": [
       "<Figure size 720x720 with 2 Axes>"
      ]
     },
     "metadata": {
      "needs_background": "light"
     },
     "output_type": "display_data"
    }
   ],
   "source": [
    "plt.figure(figsize=(10, 10))\n",
    "sns.heatmap(df2[df2.corr().index].corr(), annot = True)\n",
    "plt.show()"
   ]
  },
  {
   "cell_type": "code",
   "execution_count": 40,
   "metadata": {},
   "outputs": [
    {
     "data": {
      "text/plain": [
       "count    492667.000000\n",
       "mean         11.853637\n",
       "std           0.774437\n",
       "min          10.000000\n",
       "25%          11.326596\n",
       "50%          11.884489\n",
       "75%          12.388394\n",
       "max          13.500000\n",
       "Name: Price, dtype: float64"
      ]
     },
     "execution_count": 40,
     "metadata": {},
     "output_type": "execute_result"
    }
   ],
   "source": [
    "#Describe Price Column\n",
    "df2.Price.describe()"
   ]
  },
  {
   "cell_type": "markdown",
   "metadata": {},
   "source": [
    "### 4.1. Prepare data for Linear Regression"
   ]
  },
  {
   "cell_type": "code",
   "execution_count": 41,
   "metadata": {},
   "outputs": [
    {
     "data": {
      "text/html": [
       "<div>\n",
       "<style scoped>\n",
       "    .dataframe tbody tr th:only-of-type {\n",
       "        vertical-align: middle;\n",
       "    }\n",
       "\n",
       "    .dataframe tbody tr th {\n",
       "        vertical-align: top;\n",
       "    }\n",
       "\n",
       "    .dataframe thead th {\n",
       "        text-align: right;\n",
       "    }\n",
       "</style>\n",
       "<table border=\"1\" class=\"dataframe\">\n",
       "  <thead>\n",
       "    <tr style=\"text-align: right;\">\n",
       "      <th></th>\n",
       "      <th>Price</th>\n",
       "      <th>Old/New</th>\n",
       "      <th>Duration</th>\n",
       "      <th>Town/City</th>\n",
       "      <th>District</th>\n",
       "      <th>County</th>\n",
       "      <th>Year</th>\n",
       "      <th>Month</th>\n",
       "      <th>Property_Type_is__D</th>\n",
       "      <th>Property_Type_is__F</th>\n",
       "      <th>Property_Type_is__S</th>\n",
       "      <th>Property_Type_is__T</th>\n",
       "    </tr>\n",
       "  </thead>\n",
       "  <tbody>\n",
       "    <tr>\n",
       "      <th>3529864</th>\n",
       "      <td>11.238489</td>\n",
       "      <td>0</td>\n",
       "      <td>F</td>\n",
       "      <td>NEWBURY</td>\n",
       "      <td>WEST BERKSHIRE</td>\n",
       "      <td>WEST BERKSHIRE</td>\n",
       "      <td>1998</td>\n",
       "      <td>11</td>\n",
       "      <td>0</td>\n",
       "      <td>0</td>\n",
       "      <td>0</td>\n",
       "      <td>1</td>\n",
       "    </tr>\n",
       "    <tr>\n",
       "      <th>17475064</th>\n",
       "      <td>13.049793</td>\n",
       "      <td>0</td>\n",
       "      <td>F</td>\n",
       "      <td>TUNBRIDGE WELLS</td>\n",
       "      <td>TUNBRIDGE WELLS</td>\n",
       "      <td>KENT</td>\n",
       "      <td>2011</td>\n",
       "      <td>10</td>\n",
       "      <td>1</td>\n",
       "      <td>0</td>\n",
       "      <td>0</td>\n",
       "      <td>0</td>\n",
       "    </tr>\n",
       "    <tr>\n",
       "      <th>7902971</th>\n",
       "      <td>12.076818</td>\n",
       "      <td>0</td>\n",
       "      <td>F</td>\n",
       "      <td>ALDEBURGH</td>\n",
       "      <td>SUFFOLK COASTAL</td>\n",
       "      <td>SUFFOLK</td>\n",
       "      <td>2002</td>\n",
       "      <td>10</td>\n",
       "      <td>1</td>\n",
       "      <td>0</td>\n",
       "      <td>0</td>\n",
       "      <td>0</td>\n",
       "    </tr>\n",
       "    <tr>\n",
       "      <th>21587209</th>\n",
       "      <td>12.587928</td>\n",
       "      <td>0</td>\n",
       "      <td>L</td>\n",
       "      <td>LONDON</td>\n",
       "      <td>CROYDON</td>\n",
       "      <td>GREATER LONDON</td>\n",
       "      <td>2016</td>\n",
       "      <td>04</td>\n",
       "      <td>0</td>\n",
       "      <td>1</td>\n",
       "      <td>0</td>\n",
       "      <td>0</td>\n",
       "    </tr>\n",
       "    <tr>\n",
       "      <th>3956496</th>\n",
       "      <td>12.061047</td>\n",
       "      <td>0</td>\n",
       "      <td>F</td>\n",
       "      <td>WOKINGHAM</td>\n",
       "      <td>WOKINGHAM</td>\n",
       "      <td>WOKINGHAM</td>\n",
       "      <td>1999</td>\n",
       "      <td>06</td>\n",
       "      <td>1</td>\n",
       "      <td>0</td>\n",
       "      <td>0</td>\n",
       "      <td>0</td>\n",
       "    </tr>\n",
       "  </tbody>\n",
       "</table>\n",
       "</div>"
      ],
      "text/plain": [
       "              Price  Old/New Duration        Town/City         District  \\\n",
       "3529864   11.238489        0        F          NEWBURY   WEST BERKSHIRE   \n",
       "17475064  13.049793        0        F  TUNBRIDGE WELLS  TUNBRIDGE WELLS   \n",
       "7902971   12.076818        0        F        ALDEBURGH  SUFFOLK COASTAL   \n",
       "21587209  12.587928        0        L           LONDON          CROYDON   \n",
       "3956496   12.061047        0        F        WOKINGHAM        WOKINGHAM   \n",
       "\n",
       "                  County  Year Month  Property_Type_is__D  \\\n",
       "3529864   WEST BERKSHIRE  1998    11                    0   \n",
       "17475064            KENT  2011    10                    1   \n",
       "7902971          SUFFOLK  2002    10                    1   \n",
       "21587209  GREATER LONDON  2016    04                    0   \n",
       "3956496        WOKINGHAM  1999    06                    1   \n",
       "\n",
       "          Property_Type_is__F  Property_Type_is__S  Property_Type_is__T  \n",
       "3529864                     0                    0                    1  \n",
       "17475064                    0                    0                    0  \n",
       "7902971                     0                    0                    0  \n",
       "21587209                    1                    0                    0  \n",
       "3956496                     0                    0                    0  "
      ]
     },
     "execution_count": 41,
     "metadata": {},
     "output_type": "execute_result"
    }
   ],
   "source": [
    "lin_df = df2.copy()\n",
    "\n",
    "lin_df.head()"
   ]
  },
  {
   "cell_type": "markdown",
   "metadata": {},
   "source": [
    "- Encode other categorical data"
   ]
  },
  {
   "cell_type": "code",
   "execution_count": 42,
   "metadata": {},
   "outputs": [
    {
     "data": {
      "text/html": [
       "<div>\n",
       "<style scoped>\n",
       "    .dataframe tbody tr th:only-of-type {\n",
       "        vertical-align: middle;\n",
       "    }\n",
       "\n",
       "    .dataframe tbody tr th {\n",
       "        vertical-align: top;\n",
       "    }\n",
       "\n",
       "    .dataframe thead th {\n",
       "        text-align: right;\n",
       "    }\n",
       "</style>\n",
       "<table border=\"1\" class=\"dataframe\">\n",
       "  <thead>\n",
       "    <tr style=\"text-align: right;\">\n",
       "      <th></th>\n",
       "      <th>Price</th>\n",
       "      <th>Old/New</th>\n",
       "      <th>Duration</th>\n",
       "      <th>Town/City</th>\n",
       "      <th>District</th>\n",
       "      <th>County</th>\n",
       "      <th>Year</th>\n",
       "      <th>Month</th>\n",
       "      <th>Property_Type_is__D</th>\n",
       "      <th>Property_Type_is__F</th>\n",
       "      <th>Property_Type_is__S</th>\n",
       "      <th>Property_Type_is__T</th>\n",
       "    </tr>\n",
       "  </thead>\n",
       "  <tbody>\n",
       "    <tr>\n",
       "      <th>3529864</th>\n",
       "      <td>11.238489</td>\n",
       "      <td>0</td>\n",
       "      <td>F</td>\n",
       "      <td>0.0</td>\n",
       "      <td>0.0</td>\n",
       "      <td>0.0</td>\n",
       "      <td>1998</td>\n",
       "      <td>11</td>\n",
       "      <td>0</td>\n",
       "      <td>0</td>\n",
       "      <td>0</td>\n",
       "      <td>1</td>\n",
       "    </tr>\n",
       "    <tr>\n",
       "      <th>17475064</th>\n",
       "      <td>13.049793</td>\n",
       "      <td>0</td>\n",
       "      <td>F</td>\n",
       "      <td>1.0</td>\n",
       "      <td>1.0</td>\n",
       "      <td>1.0</td>\n",
       "      <td>2011</td>\n",
       "      <td>10</td>\n",
       "      <td>1</td>\n",
       "      <td>0</td>\n",
       "      <td>0</td>\n",
       "      <td>0</td>\n",
       "    </tr>\n",
       "    <tr>\n",
       "      <th>7902971</th>\n",
       "      <td>12.076818</td>\n",
       "      <td>0</td>\n",
       "      <td>F</td>\n",
       "      <td>2.0</td>\n",
       "      <td>2.0</td>\n",
       "      <td>2.0</td>\n",
       "      <td>2002</td>\n",
       "      <td>10</td>\n",
       "      <td>1</td>\n",
       "      <td>0</td>\n",
       "      <td>0</td>\n",
       "      <td>0</td>\n",
       "    </tr>\n",
       "    <tr>\n",
       "      <th>21587209</th>\n",
       "      <td>12.587928</td>\n",
       "      <td>0</td>\n",
       "      <td>L</td>\n",
       "      <td>3.0</td>\n",
       "      <td>3.0</td>\n",
       "      <td>3.0</td>\n",
       "      <td>2016</td>\n",
       "      <td>04</td>\n",
       "      <td>0</td>\n",
       "      <td>1</td>\n",
       "      <td>0</td>\n",
       "      <td>0</td>\n",
       "    </tr>\n",
       "    <tr>\n",
       "      <th>3956496</th>\n",
       "      <td>12.061047</td>\n",
       "      <td>0</td>\n",
       "      <td>F</td>\n",
       "      <td>4.0</td>\n",
       "      <td>4.0</td>\n",
       "      <td>4.0</td>\n",
       "      <td>1999</td>\n",
       "      <td>06</td>\n",
       "      <td>1</td>\n",
       "      <td>0</td>\n",
       "      <td>0</td>\n",
       "      <td>0</td>\n",
       "    </tr>\n",
       "    <tr>\n",
       "      <th>...</th>\n",
       "      <td>...</td>\n",
       "      <td>...</td>\n",
       "      <td>...</td>\n",
       "      <td>...</td>\n",
       "      <td>...</td>\n",
       "      <td>...</td>\n",
       "      <td>...</td>\n",
       "      <td>...</td>\n",
       "      <td>...</td>\n",
       "      <td>...</td>\n",
       "      <td>...</td>\n",
       "      <td>...</td>\n",
       "    </tr>\n",
       "    <tr>\n",
       "      <th>9319733</th>\n",
       "      <td>11.775290</td>\n",
       "      <td>0</td>\n",
       "      <td>F</td>\n",
       "      <td>374.0</td>\n",
       "      <td>304.0</td>\n",
       "      <td>34.0</td>\n",
       "      <td>2003</td>\n",
       "      <td>12</td>\n",
       "      <td>0</td>\n",
       "      <td>0</td>\n",
       "      <td>0</td>\n",
       "      <td>1</td>\n",
       "    </tr>\n",
       "    <tr>\n",
       "      <th>3095738</th>\n",
       "      <td>12.254863</td>\n",
       "      <td>1</td>\n",
       "      <td>F</td>\n",
       "      <td>584.0</td>\n",
       "      <td>198.0</td>\n",
       "      <td>24.0</td>\n",
       "      <td>1998</td>\n",
       "      <td>06</td>\n",
       "      <td>1</td>\n",
       "      <td>0</td>\n",
       "      <td>0</td>\n",
       "      <td>0</td>\n",
       "    </tr>\n",
       "    <tr>\n",
       "      <th>452418</th>\n",
       "      <td>10.668955</td>\n",
       "      <td>0</td>\n",
       "      <td>F</td>\n",
       "      <td>27.0</td>\n",
       "      <td>31.0</td>\n",
       "      <td>2.0</td>\n",
       "      <td>1995</td>\n",
       "      <td>06</td>\n",
       "      <td>0</td>\n",
       "      <td>0</td>\n",
       "      <td>0</td>\n",
       "      <td>1</td>\n",
       "    </tr>\n",
       "    <tr>\n",
       "      <th>20589667</th>\n",
       "      <td>12.542545</td>\n",
       "      <td>0</td>\n",
       "      <td>L</td>\n",
       "      <td>49.0</td>\n",
       "      <td>54.0</td>\n",
       "      <td>38.0</td>\n",
       "      <td>2015</td>\n",
       "      <td>10</td>\n",
       "      <td>0</td>\n",
       "      <td>0</td>\n",
       "      <td>0</td>\n",
       "      <td>1</td>\n",
       "    </tr>\n",
       "    <tr>\n",
       "      <th>12699276</th>\n",
       "      <td>12.013701</td>\n",
       "      <td>0</td>\n",
       "      <td>F</td>\n",
       "      <td>138.0</td>\n",
       "      <td>140.0</td>\n",
       "      <td>1.0</td>\n",
       "      <td>2006</td>\n",
       "      <td>08</td>\n",
       "      <td>0</td>\n",
       "      <td>0</td>\n",
       "      <td>0</td>\n",
       "      <td>1</td>\n",
       "    </tr>\n",
       "  </tbody>\n",
       "</table>\n",
       "<p>492667 rows × 12 columns</p>\n",
       "</div>"
      ],
      "text/plain": [
       "              Price  Old/New Duration  Town/City  District  County  Year  \\\n",
       "3529864   11.238489        0        F        0.0       0.0     0.0  1998   \n",
       "17475064  13.049793        0        F        1.0       1.0     1.0  2011   \n",
       "7902971   12.076818        0        F        2.0       2.0     2.0  2002   \n",
       "21587209  12.587928        0        L        3.0       3.0     3.0  2016   \n",
       "3956496   12.061047        0        F        4.0       4.0     4.0  1999   \n",
       "...             ...      ...      ...        ...       ...     ...   ...   \n",
       "9319733   11.775290        0        F      374.0     304.0    34.0  2003   \n",
       "3095738   12.254863        1        F      584.0     198.0    24.0  1998   \n",
       "452418    10.668955        0        F       27.0      31.0     2.0  1995   \n",
       "20589667  12.542545        0        L       49.0      54.0    38.0  2015   \n",
       "12699276  12.013701        0        F      138.0     140.0     1.0  2006   \n",
       "\n",
       "         Month  Property_Type_is__D  Property_Type_is__F  Property_Type_is__S  \\\n",
       "3529864     11                    0                    0                    0   \n",
       "17475064    10                    1                    0                    0   \n",
       "7902971     10                    1                    0                    0   \n",
       "21587209    04                    0                    1                    0   \n",
       "3956496     06                    1                    0                    0   \n",
       "...        ...                  ...                  ...                  ...   \n",
       "9319733     12                    0                    0                    0   \n",
       "3095738     06                    1                    0                    0   \n",
       "452418      06                    0                    0                    0   \n",
       "20589667    10                    0                    0                    0   \n",
       "12699276    08                    0                    0                    0   \n",
       "\n",
       "          Property_Type_is__T  \n",
       "3529864                     1  \n",
       "17475064                    0  \n",
       "7902971                     0  \n",
       "21587209                    0  \n",
       "3956496                     0  \n",
       "...                       ...  \n",
       "9319733                     1  \n",
       "3095738                     0  \n",
       "452418                      1  \n",
       "20589667                    1  \n",
       "12699276                    1  \n",
       "\n",
       "[492667 rows x 12 columns]"
      ]
     },
     "execution_count": 42,
     "metadata": {},
     "output_type": "execute_result"
    }
   ],
   "source": [
    "lin_df['Town/City'] = lin_df['Town/City'].factorize()[0].astype('float32')\n",
    "lin_df['District'] = lin_df['District'].factorize()[0].astype('float32')\n",
    "lin_df['County'] = lin_df['County'].factorize()[0].astype('float32')\n",
    "\n",
    "lin_df"
   ]
  },
  {
   "cell_type": "markdown",
   "metadata": {},
   "source": [
    "- Seggregate independent variables"
   ]
  },
  {
   "cell_type": "code",
   "execution_count": 43,
   "metadata": {},
   "outputs": [],
   "source": [
    "feat_cols = ['District', 'County', 'Old/New', 'Year', 'Month', \"Town/City\",\"Property_Type_is__D\", \"Property_Type_is__F\", \n",
    "           'Property_Type_is__S', 'Property_Type_is__T']"
   ]
  },
  {
   "cell_type": "markdown",
   "metadata": {},
   "source": [
    "- Divide variables to dependent and independent"
   ]
  },
  {
   "cell_type": "code",
   "execution_count": 44,
   "metadata": {},
   "outputs": [],
   "source": [
    "X = lin_df[feat_cols]\n",
    "y = lin_df['Price']"
   ]
  },
  {
   "cell_type": "markdown",
   "metadata": {},
   "source": [
    "#### Splitting Data into training and testing"
   ]
  },
  {
   "cell_type": "code",
   "execution_count": 45,
   "metadata": {},
   "outputs": [],
   "source": [
    "from sklearn.model_selection import train_test_split\n",
    "X_train, X_test, y_train, y_test = train_test_split(X, y, test_size = 0.25, random_state = 0)"
   ]
  },
  {
   "cell_type": "markdown",
   "metadata": {},
   "source": [
    "- Rescale variables via standardization"
   ]
  },
  {
   "cell_type": "code",
   "execution_count": 46,
   "metadata": {},
   "outputs": [
    {
     "data": {
      "text/html": [
       "<div>\n",
       "<style scoped>\n",
       "    .dataframe tbody tr th:only-of-type {\n",
       "        vertical-align: middle;\n",
       "    }\n",
       "\n",
       "    .dataframe tbody tr th {\n",
       "        vertical-align: top;\n",
       "    }\n",
       "\n",
       "    .dataframe thead th {\n",
       "        text-align: right;\n",
       "    }\n",
       "</style>\n",
       "<table border=\"1\" class=\"dataframe\">\n",
       "  <thead>\n",
       "    <tr style=\"text-align: right;\">\n",
       "      <th></th>\n",
       "      <th>District</th>\n",
       "      <th>County</th>\n",
       "      <th>Old/New</th>\n",
       "      <th>Year</th>\n",
       "      <th>Month</th>\n",
       "      <th>Town/City</th>\n",
       "      <th>Property_Type_is__D</th>\n",
       "      <th>Property_Type_is__F</th>\n",
       "      <th>Property_Type_is__S</th>\n",
       "      <th>Property_Type_is__T</th>\n",
       "    </tr>\n",
       "  </thead>\n",
       "  <tbody>\n",
       "    <tr>\n",
       "      <th>0</th>\n",
       "      <td>-0.879451</td>\n",
       "      <td>-0.714470</td>\n",
       "      <td>-0.340915</td>\n",
       "      <td>1.699886</td>\n",
       "      <td>0.372177</td>\n",
       "      <td>-0.139556</td>\n",
       "      <td>-0.553686</td>\n",
       "      <td>-0.471997</td>\n",
       "      <td>-0.621940</td>\n",
       "      <td>1.512201</td>\n",
       "    </tr>\n",
       "    <tr>\n",
       "      <th>1</th>\n",
       "      <td>-0.087740</td>\n",
       "      <td>0.314469</td>\n",
       "      <td>-0.340915</td>\n",
       "      <td>1.446415</td>\n",
       "      <td>0.670527</td>\n",
       "      <td>-0.975533</td>\n",
       "      <td>-0.553686</td>\n",
       "      <td>-0.471997</td>\n",
       "      <td>1.607873</td>\n",
       "      <td>-0.661288</td>\n",
       "    </tr>\n",
       "    <tr>\n",
       "      <th>2</th>\n",
       "      <td>1.195378</td>\n",
       "      <td>2.305962</td>\n",
       "      <td>-0.340915</td>\n",
       "      <td>1.192944</td>\n",
       "      <td>1.565576</td>\n",
       "      <td>1.274888</td>\n",
       "      <td>-0.553686</td>\n",
       "      <td>-0.471997</td>\n",
       "      <td>1.607873</td>\n",
       "      <td>-0.661288</td>\n",
       "    </tr>\n",
       "    <tr>\n",
       "      <th>3</th>\n",
       "      <td>0.267165</td>\n",
       "      <td>-0.382554</td>\n",
       "      <td>-0.340915</td>\n",
       "      <td>-1.468500</td>\n",
       "      <td>-1.119573</td>\n",
       "      <td>1.517471</td>\n",
       "      <td>1.806079</td>\n",
       "      <td>-0.471997</td>\n",
       "      <td>-0.621940</td>\n",
       "      <td>-0.661288</td>\n",
       "    </tr>\n",
       "    <tr>\n",
       "      <th>4</th>\n",
       "      <td>-0.761149</td>\n",
       "      <td>-0.913619</td>\n",
       "      <td>-0.340915</td>\n",
       "      <td>-0.201145</td>\n",
       "      <td>1.267226</td>\n",
       "      <td>-1.005389</td>\n",
       "      <td>-0.553686</td>\n",
       "      <td>-0.471997</td>\n",
       "      <td>-0.621940</td>\n",
       "      <td>1.512201</td>\n",
       "    </tr>\n",
       "    <tr>\n",
       "      <th>...</th>\n",
       "      <td>...</td>\n",
       "      <td>...</td>\n",
       "      <td>...</td>\n",
       "      <td>...</td>\n",
       "      <td>...</td>\n",
       "      <td>...</td>\n",
       "      <td>...</td>\n",
       "      <td>...</td>\n",
       "      <td>...</td>\n",
       "      <td>...</td>\n",
       "    </tr>\n",
       "    <tr>\n",
       "      <th>369495</th>\n",
       "      <td>0.840473</td>\n",
       "      <td>-0.050639</td>\n",
       "      <td>-0.340915</td>\n",
       "      <td>-1.595235</td>\n",
       "      <td>1.565576</td>\n",
       "      <td>0.196328</td>\n",
       "      <td>-0.553686</td>\n",
       "      <td>-0.471997</td>\n",
       "      <td>1.607873</td>\n",
       "      <td>-0.661288</td>\n",
       "    </tr>\n",
       "    <tr>\n",
       "      <th>369496</th>\n",
       "      <td>0.794972</td>\n",
       "      <td>-0.117022</td>\n",
       "      <td>-0.340915</td>\n",
       "      <td>-0.074410</td>\n",
       "      <td>0.372177</td>\n",
       "      <td>-0.012666</td>\n",
       "      <td>-0.553686</td>\n",
       "      <td>-0.471997</td>\n",
       "      <td>-0.621940</td>\n",
       "      <td>1.512201</td>\n",
       "    </tr>\n",
       "    <tr>\n",
       "      <th>369497</th>\n",
       "      <td>-1.234356</td>\n",
       "      <td>-0.946811</td>\n",
       "      <td>-0.340915</td>\n",
       "      <td>-0.074410</td>\n",
       "      <td>-1.119573</td>\n",
       "      <td>-0.930748</td>\n",
       "      <td>-0.553686</td>\n",
       "      <td>-0.471997</td>\n",
       "      <td>-0.621940</td>\n",
       "      <td>1.512201</td>\n",
       "    </tr>\n",
       "    <tr>\n",
       "      <th>369498</th>\n",
       "      <td>0.312665</td>\n",
       "      <td>1.708514</td>\n",
       "      <td>-0.340915</td>\n",
       "      <td>0.939473</td>\n",
       "      <td>-1.119573</td>\n",
       "      <td>1.842158</td>\n",
       "      <td>-0.553686</td>\n",
       "      <td>-0.471997</td>\n",
       "      <td>-0.621940</td>\n",
       "      <td>1.512201</td>\n",
       "    </tr>\n",
       "    <tr>\n",
       "      <th>369499</th>\n",
       "      <td>-0.560947</td>\n",
       "      <td>-0.946811</td>\n",
       "      <td>-0.340915</td>\n",
       "      <td>-1.341764</td>\n",
       "      <td>0.968876</td>\n",
       "      <td>-0.210464</td>\n",
       "      <td>1.806079</td>\n",
       "      <td>-0.471997</td>\n",
       "      <td>-0.621940</td>\n",
       "      <td>-0.661288</td>\n",
       "    </tr>\n",
       "  </tbody>\n",
       "</table>\n",
       "<p>369500 rows × 10 columns</p>\n",
       "</div>"
      ],
      "text/plain": [
       "        District    County   Old/New      Year     Month  Town/City  \\\n",
       "0      -0.879451 -0.714470 -0.340915  1.699886  0.372177  -0.139556   \n",
       "1      -0.087740  0.314469 -0.340915  1.446415  0.670527  -0.975533   \n",
       "2       1.195378  2.305962 -0.340915  1.192944  1.565576   1.274888   \n",
       "3       0.267165 -0.382554 -0.340915 -1.468500 -1.119573   1.517471   \n",
       "4      -0.761149 -0.913619 -0.340915 -0.201145  1.267226  -1.005389   \n",
       "...          ...       ...       ...       ...       ...        ...   \n",
       "369495  0.840473 -0.050639 -0.340915 -1.595235  1.565576   0.196328   \n",
       "369496  0.794972 -0.117022 -0.340915 -0.074410  0.372177  -0.012666   \n",
       "369497 -1.234356 -0.946811 -0.340915 -0.074410 -1.119573  -0.930748   \n",
       "369498  0.312665  1.708514 -0.340915  0.939473 -1.119573   1.842158   \n",
       "369499 -0.560947 -0.946811 -0.340915 -1.341764  0.968876  -0.210464   \n",
       "\n",
       "        Property_Type_is__D  Property_Type_is__F  Property_Type_is__S  \\\n",
       "0                 -0.553686            -0.471997            -0.621940   \n",
       "1                 -0.553686            -0.471997             1.607873   \n",
       "2                 -0.553686            -0.471997             1.607873   \n",
       "3                  1.806079            -0.471997            -0.621940   \n",
       "4                 -0.553686            -0.471997            -0.621940   \n",
       "...                     ...                  ...                  ...   \n",
       "369495            -0.553686            -0.471997             1.607873   \n",
       "369496            -0.553686            -0.471997            -0.621940   \n",
       "369497            -0.553686            -0.471997            -0.621940   \n",
       "369498            -0.553686            -0.471997            -0.621940   \n",
       "369499             1.806079            -0.471997            -0.621940   \n",
       "\n",
       "        Property_Type_is__T  \n",
       "0                  1.512201  \n",
       "1                 -0.661288  \n",
       "2                 -0.661288  \n",
       "3                 -0.661288  \n",
       "4                  1.512201  \n",
       "...                     ...  \n",
       "369495            -0.661288  \n",
       "369496             1.512201  \n",
       "369497             1.512201  \n",
       "369498             1.512201  \n",
       "369499            -0.661288  \n",
       "\n",
       "[369500 rows x 10 columns]"
      ]
     },
     "execution_count": 46,
     "metadata": {},
     "output_type": "execute_result"
    }
   ],
   "source": [
    "from sklearn.preprocessing import StandardScaler\n",
    "\n",
    "scaler = StandardScaler()\n",
    "\n",
    "normalized_array = scaler.fit_transform(X_train[feat_cols])\n",
    "normalized_X_train = pd.DataFrame(normalized_array, columns=feat_cols)\n",
    "\n",
    "normalized_X_train"
   ]
  },
  {
   "cell_type": "markdown",
   "metadata": {},
   "source": [
    "- Summarize the shape of the training dataset"
   ]
  },
  {
   "cell_type": "code",
   "execution_count": 47,
   "metadata": {},
   "outputs": [
    {
     "name": "stdout",
     "output_type": "stream",
     "text": [
      "(369500, 10) (369500,)\n"
     ]
    }
   ],
   "source": [
    "print(X_train.shape, y_train.shape)"
   ]
  },
  {
   "cell_type": "markdown",
   "metadata": {},
   "source": [
    "### Apply linear regression, fit the model and 5-fold cross-validation"
   ]
  },
  {
   "cell_type": "code",
   "execution_count": 48,
   "metadata": {},
   "outputs": [],
   "source": [
    "from sklearn.linear_model import LinearRegression"
   ]
  },
  {
   "cell_type": "code",
   "execution_count": 49,
   "metadata": {},
   "outputs": [
    {
     "data": {
      "text/plain": [
       "LinearRegression()"
      ]
     },
     "execution_count": 49,
     "metadata": {},
     "output_type": "execute_result"
    }
   ],
   "source": [
    "lr = LinearRegression()\n",
    "lr.fit(X_train,y_train)"
   ]
  },
  {
   "cell_type": "code",
   "execution_count": 50,
   "metadata": {},
   "outputs": [],
   "source": [
    "# Applying linear regression\n",
    "from sklearn.linear_model import LinearRegression\n",
    "\n",
    "# Creating an instance for the model\n",
    "lr_model = LinearRegression(n_jobs = -1)"
   ]
  },
  {
   "cell_type": "code",
   "execution_count": 51,
   "metadata": {},
   "outputs": [
    {
     "data": {
      "text/plain": [
       "LinearRegression(n_jobs=-1)"
      ]
     },
     "execution_count": 51,
     "metadata": {},
     "output_type": "execute_result"
    }
   ],
   "source": [
    "lr_model.fit(normalized_X_train, y_train)"
   ]
  },
  {
   "cell_type": "code",
   "execution_count": 52,
   "metadata": {},
   "outputs": [
    {
     "data": {
      "text/plain": [
       "0.4615614249956158"
      ]
     },
     "execution_count": 52,
     "metadata": {},
     "output_type": "execute_result"
    }
   ],
   "source": [
    "lr_model.score(normalized_X_train, y_train)"
   ]
  },
  {
   "cell_type": "code",
   "execution_count": 53,
   "metadata": {},
   "outputs": [],
   "source": [
    "from sklearn.linear_model import LinearRegression\n",
    "from sklearn.model_selection import KFold\n",
    "from sklearn.model_selection import cross_val_score"
   ]
  },
  {
   "cell_type": "code",
   "execution_count": 54,
   "metadata": {},
   "outputs": [],
   "source": [
    "kf = KFold(n_splits = 5, random_state = None)\n",
    "lreg = LinearRegression()\n",
    "avg_lreg_score = cross_val_score(lreg , normalized_X_train, y_train, cv = kf)"
   ]
  },
  {
   "cell_type": "code",
   "execution_count": 55,
   "metadata": {},
   "outputs": [
    {
     "name": "stdout",
     "output_type": "stream",
     "text": [
      "Avg accuracy : [0.4597294  0.4601159  0.46174842 0.46362928 0.46200494]\n"
     ]
    }
   ],
   "source": [
    "print('Avg accuracy : {}'.format(avg_lreg_score))"
   ]
  },
  {
   "cell_type": "markdown",
   "metadata": {},
   "source": [
    "### Apply decision tree, fit the model and 5-fold cross-validation"
   ]
  },
  {
   "cell_type": "code",
   "execution_count": 56,
   "metadata": {},
   "outputs": [],
   "source": [
    "from sklearn.tree import DecisionTreeRegressor"
   ]
  },
  {
   "cell_type": "code",
   "execution_count": 57,
   "metadata": {},
   "outputs": [],
   "source": [
    "kf = KFold(n_splits = 5, random_state = None)\n",
    "\n",
    "tr_regressor = DecisionTreeRegressor(random_state = 0)\n",
    "\n",
    "avg_tr_score = cross_val_score(tr_regressor, normalized_X_train, y_train, cv = kf)"
   ]
  },
  {
   "cell_type": "code",
   "execution_count": 58,
   "metadata": {},
   "outputs": [
    {
     "name": "stdout",
     "output_type": "stream",
     "text": [
      "Avg accuracy : [0.58155233 0.58243832 0.58165831 0.58055343 0.58460296]\n"
     ]
    }
   ],
   "source": [
    "print('Avg accuracy : {}'.format(avg_tr_score))"
   ]
  },
  {
   "cell_type": "code",
   "execution_count": 59,
   "metadata": {},
   "outputs": [],
   "source": [
    "y_true = np.exp(y_train)\n",
    "y_pred = np.exp(lr_model.predict(normalized_X_train))"
   ]
  },
  {
   "cell_type": "code",
   "execution_count": 60,
   "metadata": {},
   "outputs": [
    {
     "data": {
      "text/plain": [
       "124092.35515678643"
      ]
     },
     "execution_count": 60,
     "metadata": {},
     "output_type": "execute_result"
    }
   ],
   "source": [
    "from sklearn.metrics import mean_squared_error\n",
    "mean_squared_error(y_true, y_pred, squared = False)"
   ]
  },
  {
   "cell_type": "code",
   "execution_count": 61,
   "metadata": {},
   "outputs": [
    {
     "data": {
      "text/plain": [
       "DecisionTreeRegressor(random_state=0)"
      ]
     },
     "execution_count": 61,
     "metadata": {},
     "output_type": "execute_result"
    }
   ],
   "source": [
    "tr_regressor.fit(X_train, y_train)"
   ]
  },
  {
   "cell_type": "code",
   "execution_count": 71,
   "metadata": {},
   "outputs": [],
   "source": [
    "dt_y_pred = tr_regressor.predict(X_test)"
   ]
  },
  {
   "cell_type": "markdown",
   "metadata": {
    "tags": []
   },
   "source": [
    "### Prediction using Decision Tree"
   ]
  },
  {
   "cell_type": "code",
   "execution_count": 64,
   "metadata": {},
   "outputs": [],
   "source": [
    "user = tr_regressor.predict([[72,14,0,'2021','08',241,0,0,0,1]])"
   ]
  },
  {
   "cell_type": "code",
   "execution_count": 65,
   "metadata": {},
   "outputs": [
    {
     "data": {
      "text/plain": [
       "array([11.91109962])"
      ]
     },
     "execution_count": 65,
     "metadata": {},
     "output_type": "execute_result"
    }
   ],
   "source": [
    "user"
   ]
  },
  {
   "cell_type": "code",
   "execution_count": 67,
   "metadata": {},
   "outputs": [
    {
     "data": {
      "text/plain": [
       "array([148910.3348082])"
      ]
     },
     "execution_count": 67,
     "metadata": {},
     "output_type": "execute_result"
    }
   ],
   "source": [
    "np.exp(user)"
   ]
  }
 ],
 "metadata": {
  "kernelspec": {
   "display_name": "Python 3 (ipykernel)",
   "language": "python",
   "name": "python3"
  },
  "language_info": {
   "codemirror_mode": {
    "name": "ipython",
    "version": 3
   },
   "file_extension": ".py",
   "mimetype": "text/x-python",
   "name": "python",
   "nbconvert_exporter": "python",
   "pygments_lexer": "ipython3",
   "version": "3.9.7"
  },
  "vscode": {
   "interpreter": {
    "hash": "03e77c7cd302261a18a806af7578cf167306b4c926bd0db4130f26082be6a377"
   }
  }
 },
 "nbformat": 4,
 "nbformat_minor": 4
}
